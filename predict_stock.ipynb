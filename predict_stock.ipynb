{
 "cells": [
  {
   "cell_type": "markdown",
   "metadata": {},
   "source": [
    "## Tiểu luận cuối kì: Dự báo sự tăng hoặc giảm giá cổ phiếu của Amazon"
   ]
  },
  {
   "cell_type": "markdown",
   "metadata": {},
   "source": [
    "### Vấn đề:\n",
    "    Giải quyết bài toán dự đoán sự tăng hoặc giảm giá cổ phiếu của Amazon trên tập dữ liệu thu thập được :\n",
    "- Xây dựng các đặc trưng mới  để dự báo với sự tăng giá hay giảm của cổ phiếu Amazon\n",
    "- Lựa chọn model Logistic regression và Random Forest cho việc lựa chọn và đánh giá mô hình dự báo vì đơn vị xử lí là 0 và 1\n",
    "- Phân chia tập dữ liệu train và test để đánh giá độ hiểu quả (Trong đó bao gồm có xử lí cross_validation)\n",
    "- Đánh giá độ chính xác của dự đoán và tiếp cận các giải pháp để tăng độ chính xác của bài toán dự đoán"
   ]
  }
 ],
 "metadata": {
  "language_info": {
   "name": "python"
  },
  "orig_nbformat": 4
 },
 "nbformat": 4,
 "nbformat_minor": 2
}
