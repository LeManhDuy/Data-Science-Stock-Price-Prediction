{
 "cells": [
  {
   "cell_type": "markdown",
   "metadata": {},
   "source": [
    "# Thu thập dữ liệu cổ phiếu Amazon từ trang web\n",
    "https://finance.yahoo.com/quote/AMZN/history?period1=1495324800&period2=1653091200&interval=1d&filter=history&frequency=1d&includeAdjustedClose=true"
   ]
  },
  {
   "cell_type": "code",
   "execution_count": 4,
   "metadata": {},
   "outputs": [],
   "source": [
    "from selenium import webdriver\n",
    "from bs4 import BeautifulSoup\n",
    "from selenium.webdriver.chrome.options import Options\n",
    "import pandas as pd"
   ]
  },
  {
   "cell_type": "markdown",
   "metadata": {},
   "source": [
    "    Tạo ra một webdriver để truy cập vào web với các options: web ẩn danh và window size là 1920x1080"
   ]
  },
  {
   "cell_type": "code",
   "execution_count": 5,
   "metadata": {},
   "outputs": [],
   "source": [
    "chrome_options = Options()\n",
    "chrome_options.add_argument(\"--incognito\")\n",
    "chrome_options.add_argument(\"--window-size=1920x1080\")"
   ]
  },
  {
   "cell_type": "code",
   "execution_count": 6,
   "metadata": {},
   "outputs": [
    {
     "name": "stderr",
     "output_type": "stream",
     "text": [
      "C:\\Users\\ACER\\AppData\\Local\\Temp\\ipykernel_4452\\1680646079.py:1: DeprecationWarning: use options instead of chrome_options\n",
      "  driver = webdriver.Chrome(chrome_options=chrome_options)\n"
     ]
    }
   ],
   "source": [
    "driver = webdriver.Chrome(chrome_options=chrome_options)"
   ]
  },
  {
   "cell_type": "markdown",
   "metadata": {},
   "source": [
    "    Đưa link web vào driver để lấy được dữ liệu"
   ]
  },
  {
   "cell_type": "code",
   "execution_count": 7,
   "metadata": {},
   "outputs": [],
   "source": [
    "url = \"https://finance.yahoo.com/quote/AMZN/history?period1=1432166400&period2=1653091200&interval=1d&filter=history&frequency=1d&includeAdjustedClose=true\"\n",
    "driver.get(url)"
   ]
  },
  {
   "cell_type": "markdown",
   "metadata": {},
   "source": [
    "    Dùng BeautifulSoup để tiến hành phân tích cú pháp web"
   ]
  },
  {
   "cell_type": "code",
   "execution_count": 8,
   "metadata": {},
   "outputs": [],
   "source": [
    "HTMLPage = BeautifulSoup(driver.page_source, 'html.parser')"
   ]
  },
  {
   "cell_type": "markdown",
   "metadata": {},
   "source": [
    "    Lấy ra thành phần table với class là 'W(100%) M(0)' lưu vào trong biến Table"
   ]
  },
  {
   "cell_type": "code",
   "execution_count": 9,
   "metadata": {},
   "outputs": [],
   "source": [
    "Table = HTMLPage.find('table', class_='W(100%) M(0)')"
   ]
  },
  {
   "cell_type": "markdown",
   "metadata": {},
   "source": [
    "    Lấy ra các hàng có thẻ tr với class là 'BdT Bdc($seperatorColor) Ta(end) Fz(s) Whs(nw)' lưu vào trong Rows"
   ]
  },
  {
   "cell_type": "code",
   "execution_count": 10,
   "metadata": {},
   "outputs": [],
   "source": [
    "Rows = Table.find_all('tr', class_='BdT Bdc($seperatorColor) Ta(end) Fz(s) Whs(nw)')"
   ]
  },
  {
   "cell_type": "markdown",
   "metadata": {},
   "source": [
    "    Lấy dữ liệu của các cột trong từng thẻ tr"
   ]
  },
  {
   "cell_type": "code",
   "execution_count": 11,
   "metadata": {},
   "outputs": [],
   "source": [
    "# Tạo ra một mảng trống để chứa toàn bộ dữ liệu\n",
    "extracted_data = []\n",
    "\n",
    "# Lặp từng hàng trong Rows\n",
    "for i in range(0, len(Rows)):\n",
    " try:\n",
    "  # Tạo ra một dictionary trống chứa thông tin các cột của mỗi hàng\n",
    "  RowDict = {}\n",
    "\n",
    "  # Lấy ra các thẻ td chứa dữ liệu các cột của mỗi hàng \n",
    "  Values = Rows[i].find_all('td')\n",
    "\n",
    "  # Lấy ra 7 giá trị tương ứng với 7 cột lấy được lưu vào trong dictionary extracted_data\n",
    "  if len(Values) == 7:\n",
    "   RowDict[\"Date\"] = Values[0].find('span').text.replace(',', '')\n",
    "   RowDict[\"Open\"] = Values[1].find('span').text.replace(',', '')\n",
    "   RowDict[\"High\"] = Values[2].find('span').text.replace(',', '')\n",
    "   RowDict[\"Low\"] = Values[3].find('span').text.replace(',', '')\n",
    "   RowDict[\"Close\"] = Values[4].find('span').text.replace(',', '')\n",
    "   RowDict[\"Adj Close\"] = Values[5].find('span').text.replace(',', '')\n",
    "   RowDict[\"Volume\"] = Values[6].find('span').text.replace(',', '')\n",
    "   extracted_data.append(RowDict)\n",
    " except:\n",
    "  # In ra hàng bị lỗi\n",
    "  print(\"Row Number: \" + str(i))\n"
   ]
  },
  {
   "cell_type": "markdown",
   "metadata": {},
   "source": [
    "    Chuyển dictionary extracted_data thành một Dataframe và lưu lại thành file raw_data.csv"
   ]
  },
  {
   "cell_type": "code",
   "execution_count": 12,
   "metadata": {},
   "outputs": [
    {
     "data": {
      "text/html": [
       "<div>\n",
       "<style scoped>\n",
       "    .dataframe tbody tr th:only-of-type {\n",
       "        vertical-align: middle;\n",
       "    }\n",
       "\n",
       "    .dataframe tbody tr th {\n",
       "        vertical-align: top;\n",
       "    }\n",
       "\n",
       "    .dataframe thead th {\n",
       "        text-align: right;\n",
       "    }\n",
       "</style>\n",
       "<table border=\"1\" class=\"dataframe\">\n",
       "  <thead>\n",
       "    <tr style=\"text-align: right;\">\n",
       "      <th></th>\n",
       "      <th>Date</th>\n",
       "      <th>Open</th>\n",
       "      <th>High</th>\n",
       "      <th>Low</th>\n",
       "      <th>Close</th>\n",
       "      <th>Adj Close</th>\n",
       "      <th>Volume</th>\n",
       "    </tr>\n",
       "  </thead>\n",
       "  <tbody>\n",
       "    <tr>\n",
       "      <th>0</th>\n",
       "      <td>May 20 2022</td>\n",
       "      <td>109.57</td>\n",
       "      <td>109.90</td>\n",
       "      <td>105.01</td>\n",
       "      <td>107.59</td>\n",
       "      <td>107.59</td>\n",
       "      <td>99500000</td>\n",
       "    </tr>\n",
       "    <tr>\n",
       "      <th>1</th>\n",
       "      <td>May 19 2022</td>\n",
       "      <td>106.28</td>\n",
       "      <td>110.03</td>\n",
       "      <td>106.19</td>\n",
       "      <td>107.32</td>\n",
       "      <td>107.32</td>\n",
       "      <td>88142000</td>\n",
       "    </tr>\n",
       "    <tr>\n",
       "      <th>2</th>\n",
       "      <td>May 18 2022</td>\n",
       "      <td>111.44</td>\n",
       "      <td>112.85</td>\n",
       "      <td>106.25</td>\n",
       "      <td>107.11</td>\n",
       "      <td>107.11</td>\n",
       "      <td>108380000</td>\n",
       "    </tr>\n",
       "    <tr>\n",
       "      <th>3</th>\n",
       "      <td>May 17 2022</td>\n",
       "      <td>113.28</td>\n",
       "      <td>115.80</td>\n",
       "      <td>111.28</td>\n",
       "      <td>115.37</td>\n",
       "      <td>115.37</td>\n",
       "      <td>76448000</td>\n",
       "    </tr>\n",
       "    <tr>\n",
       "      <th>4</th>\n",
       "      <td>May 16 2022</td>\n",
       "      <td>113.10</td>\n",
       "      <td>113.99</td>\n",
       "      <td>110.35</td>\n",
       "      <td>110.81</td>\n",
       "      <td>110.81</td>\n",
       "      <td>74566000</td>\n",
       "    </tr>\n",
       "    <tr>\n",
       "      <th>...</th>\n",
       "      <td>...</td>\n",
       "      <td>...</td>\n",
       "      <td>...</td>\n",
       "      <td>...</td>\n",
       "      <td>...</td>\n",
       "      <td>...</td>\n",
       "      <td>...</td>\n",
       "    </tr>\n",
       "    <tr>\n",
       "      <th>1759</th>\n",
       "      <td>May 28 2015</td>\n",
       "      <td>21.49</td>\n",
       "      <td>21.57</td>\n",
       "      <td>21.27</td>\n",
       "      <td>21.33</td>\n",
       "      <td>21.33</td>\n",
       "      <td>38248000</td>\n",
       "    </tr>\n",
       "    <tr>\n",
       "      <th>1760</th>\n",
       "      <td>May 27 2015</td>\n",
       "      <td>21.37</td>\n",
       "      <td>21.59</td>\n",
       "      <td>21.25</td>\n",
       "      <td>21.57</td>\n",
       "      <td>21.57</td>\n",
       "      <td>44622000</td>\n",
       "    </tr>\n",
       "    <tr>\n",
       "      <th>1761</th>\n",
       "      <td>May 26 2015</td>\n",
       "      <td>21.31</td>\n",
       "      <td>21.35</td>\n",
       "      <td>21.10</td>\n",
       "      <td>21.27</td>\n",
       "      <td>21.27</td>\n",
       "      <td>44884000</td>\n",
       "    </tr>\n",
       "    <tr>\n",
       "      <th>1762</th>\n",
       "      <td>May 22 2015</td>\n",
       "      <td>21.58</td>\n",
       "      <td>21.62</td>\n",
       "      <td>21.38</td>\n",
       "      <td>21.38</td>\n",
       "      <td>21.38</td>\n",
       "      <td>40412000</td>\n",
       "    </tr>\n",
       "    <tr>\n",
       "      <th>1763</th>\n",
       "      <td>May 21 2015</td>\n",
       "      <td>21.40</td>\n",
       "      <td>21.84</td>\n",
       "      <td>21.40</td>\n",
       "      <td>21.58</td>\n",
       "      <td>21.58</td>\n",
       "      <td>82428000</td>\n",
       "    </tr>\n",
       "  </tbody>\n",
       "</table>\n",
       "<p>1764 rows × 7 columns</p>\n",
       "</div>"
      ],
      "text/plain": [
       "             Date    Open    High     Low   Close Adj Close     Volume\n",
       "0     May 20 2022  109.57  109.90  105.01  107.59    107.59   99500000\n",
       "1     May 19 2022  106.28  110.03  106.19  107.32    107.32   88142000\n",
       "2     May 18 2022  111.44  112.85  106.25  107.11    107.11  108380000\n",
       "3     May 17 2022  113.28  115.80  111.28  115.37    115.37   76448000\n",
       "4     May 16 2022  113.10  113.99  110.35  110.81    110.81   74566000\n",
       "...           ...     ...     ...     ...     ...       ...        ...\n",
       "1759  May 28 2015   21.49   21.57   21.27   21.33     21.33   38248000\n",
       "1760  May 27 2015   21.37   21.59   21.25   21.57     21.57   44622000\n",
       "1761  May 26 2015   21.31   21.35   21.10   21.27     21.27   44884000\n",
       "1762  May 22 2015   21.58   21.62   21.38   21.38     21.38   40412000\n",
       "1763  May 21 2015   21.40   21.84   21.40   21.58     21.58   82428000\n",
       "\n",
       "[1764 rows x 7 columns]"
      ]
     },
     "execution_count": 12,
     "metadata": {},
     "output_type": "execute_result"
    }
   ],
   "source": [
    "extracted_data = pd.DataFrame(extracted_data)\n",
    "extracted_data.to_csv('raw data/raw_data.csv',index=False)"
   ]
  }
 ],
 "metadata": {
  "interpreter": {
   "hash": "26de051ba29f2982a8de78e945f0abaf191376122a1563185a90213a26c5da77"
  },
  "kernelspec": {
   "display_name": "Python 3.10.1 64-bit",
   "language": "python",
   "name": "python3"
  },
  "language_info": {
   "codemirror_mode": {
    "name": "ipython",
    "version": 3
   },
   "file_extension": ".py",
   "mimetype": "text/x-python",
   "name": "python",
   "nbconvert_exporter": "python",
   "pygments_lexer": "ipython3",
   "version": "3.10.1"
  },
  "orig_nbformat": 4
 },
 "nbformat": 4,
 "nbformat_minor": 2
}
