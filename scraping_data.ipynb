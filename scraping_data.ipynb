{
 "cells": [
  {
   "cell_type": "markdown",
   "metadata": {},
   "source": [
    "# Thu thập dữ liệu cổ phiếu Amazon từ trang web\n",
    "https://finance.yahoo.com/quote/AMZN/history?period1=1495324800&period2=1653091200&interval=1d&filter=history&frequency=1d&includeAdjustedClose=true"
   ]
  },
  {
   "cell_type": "code",
   "execution_count": 48,
   "metadata": {},
   "outputs": [],
   "source": [
    "from selenium import webdriver\n",
    "from bs4 import BeautifulSoup\n",
    "from selenium.webdriver.chrome.options import Options\n",
    "import pandas as pd\n",
    "import csv"
   ]
  },
  {
   "cell_type": "code",
   "execution_count": 49,
   "metadata": {},
   "outputs": [],
   "source": [
    "chrome_options = Options()\n",
    "chrome_options.add_argument(\"--incognito\")\n",
    "chrome_options.add_argument(\"--window-size=1920x1080\")"
   ]
  },
  {
   "cell_type": "code",
   "execution_count": 50,
   "metadata": {},
   "outputs": [
    {
     "name": "stderr",
     "output_type": "stream",
     "text": [
      "C:\\Users\\ACER\\AppData\\Local\\Temp\\ipykernel_7280\\1680646079.py:1: DeprecationWarning: use options instead of chrome_options\n",
      "  driver = webdriver.Chrome(chrome_options=chrome_options)\n"
     ]
    }
   ],
   "source": [
    "driver = webdriver.Chrome(chrome_options=chrome_options)"
   ]
  },
  {
   "cell_type": "code",
   "execution_count": 51,
   "metadata": {},
   "outputs": [],
   "source": [
    "url = \"https://finance.yahoo.com/quote/AMZN/history?period1=1495324800&period2=1653091200&interval=1d&filter=history&frequency=1d&includeAdjustedClose=true/\"\n",
    "driver.get(url)"
   ]
  },
  {
   "cell_type": "code",
   "execution_count": null,
   "metadata": {},
   "outputs": [],
   "source": [
    "# Web page fetched from driver is parsed using Beautiful Soup.\n",
    "HTMLPage = BeautifulSoup(driver.page_source, 'html.parser')"
   ]
  },
  {
   "cell_type": "code",
   "execution_count": null,
   "metadata": {},
   "outputs": [],
   "source": [
    "# Table is searched using class and stored in another variable.\n",
    "Table = HTMLPage.find('table', class_='W(100%) M(0)')"
   ]
  },
  {
   "cell_type": "code",
   "execution_count": null,
   "metadata": {},
   "outputs": [],
   "source": [
    "# List of all the rows is store in a variable 'Rows'.\n",
    "Rows = Table.find_all('tr', class_='BdT Bdc($seperatorColor) Ta(end) Fz(s) Whs(nw)')"
   ]
  },
  {
   "cell_type": "markdown",
   "metadata": {},
   "source": []
  },
  {
   "cell_type": "code",
   "execution_count": null,
   "metadata": {},
   "outputs": [],
   "source": [
    "# Empty list is created to store the data\n",
    "extracted_data = []\n",
    "# Loop to go through each row of table\n",
    "for i in range(0, len(Rows)):\n",
    " try:\n",
    "  # Empty dictionary to store data present in each row\n",
    "  RowDict = {}\n",
    "  # Extracted all the columns of a row and stored in a variable\n",
    "  Values = Rows[i].find_all('td')\n",
    "  \n",
    "  # Values (Open, High, Close etc.) are extracted and stored in dictionary\n",
    "  if len(Values) == 7:\n",
    "   RowDict[\"Date\"] = Values[0].find('span').text.replace(',', '')\n",
    "   RowDict[\"Open\"] = Values[1].find('span').text.replace(',', '')\n",
    "   RowDict[\"High\"] = Values[2].find('span').text.replace(',', '')\n",
    "   RowDict[\"Low\"] = Values[3].find('span').text.replace(',', '')\n",
    "   RowDict[\"Close\"] = Values[4].find('span').text.replace(',', '')\n",
    "   RowDict[\"Adj Close\"] = Values[5].find('span').text.replace(',', '')\n",
    "   RowDict[\"Volume\"] = Values[6].find('span').text.replace(',', '')\n",
    "# Uncomment below print statement if required\n",
    "   # print(RowDict) \n",
    "   # Dictionary is appended in list\n",
    "   extracted_data.append(RowDict)\n",
    " except:\n",
    "  # To check the exception caused for which company\n",
    "  print(\"Row Number: \" + str(i))\n",
    " finally:\n",
    "  # To move to the next row\n",
    "  i = i + 1"
   ]
  },
  {
   "cell_type": "code",
   "execution_count": null,
   "metadata": {},
   "outputs": [],
   "source": [
    "# Converted list of dictionaries to a Dataframe.\n",
    "extracted_data = pd.DataFrame(extracted_data)\n",
    "extracted_data.to_csv('raw data/raw_data.csv',index=False)"
   ]
  }
 ],
 "metadata": {
  "interpreter": {
   "hash": "26de051ba29f2982a8de78e945f0abaf191376122a1563185a90213a26c5da77"
  },
  "kernelspec": {
   "display_name": "Python 3.10.1 64-bit",
   "language": "python",
   "name": "python3"
  },
  "language_info": {
   "codemirror_mode": {
    "name": "ipython",
    "version": 3
   },
   "file_extension": ".py",
   "mimetype": "text/x-python",
   "name": "python",
   "nbconvert_exporter": "python",
   "pygments_lexer": "ipython3",
   "version": "3.10.1"
  },
  "orig_nbformat": 4
 },
 "nbformat": 4,
 "nbformat_minor": 2
}
