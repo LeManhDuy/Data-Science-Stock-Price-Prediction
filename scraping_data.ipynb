{
 "cells": [
  {
   "cell_type": "markdown",
   "metadata": {},
   "source": [
    "# Thu thập dữ liệu cổ phiếu Amazon từ` trang web\n",
    "https://finance.yahoo.com/quote/AMZN/history?period1=1495324800&period2=1653091200&interval=1d&filter=history&frequency=1d&includeAdjustedClose=true"
   ]
  },
  {
   "cell_type": "code",
   "execution_count": null,
   "metadata": {},
   "outputs": [],
   "source": [
    "import requests\n",
    "from bs4 import BeautifulSoup\n",
    "import pandas as pd\n",
    "from io import StringIO\n",
    "import csv"
   ]
  },
  {
   "cell_type": "code",
   "execution_count": 33,
   "metadata": {},
   "outputs": [],
   "source": [
    "headers = {\n",
    "    'User-Agent': 'Mozilla/5.0 (Macintosh; Intel Mac OS X 10_11_5) AppleWebKit/537.36 (KHTML, like Gecko) Chrome/50.0.2661.102 Safari/537.36'}\n",
    "url = \"https://finance.yahoo.com/quote/AMZN/history?period1=1495324800&period2=1653091200&interval=1d&filter=history&frequency=1d&includeAdjustedClose=true\""
   ]
  },
  {
   "cell_type": "code",
   "execution_count": 34,
   "metadata": {},
   "outputs": [],
   "source": [
    "# r = requests.get(url, headers=headers)\n",
    "# soup = BeautifulSoup(r.text, 'html')\n",
    "# tr_rows = soup.find_all('tr')[1]\n",
    "# print(tr_rows)\n",
    "# list_date = []\n",
    "# list_open = []\n",
    "# list_high = []\n",
    "# list_low = []\n",
    "# list_close = []\n",
    "# list_adj_close = []\n",
    "# list_volume = []\n",
    "# list_all = [list_date,list_open,list_high,list_low,list_close,list_adj_close,list_volume]\n",
    "# # list_all[0].append(1)\n",
    "# # print(list_all)\n",
    "# for tr_row in tr_rows:\n",
    "#     i = 0\n",
    "#     td_columns = tr_row.select('td')\n",
    "#     for td_column in td_columns:\n",
    "#         list_all[i].append(td_column.getText())\n",
    "#         i+=1\n",
    "        \n",
    "\n",
    "# print(len(list_all[1]))\n"
   ]
  },
  {
   "cell_type": "code",
   "execution_count": 35,
   "metadata": {},
   "outputs": [],
   "source": [
    "stock = 'AMZN'\n",
    "stock_url = 'https://query1.finance.yahoo.com/v7/finance/download/{}'\n",
    "\n",
    "params = {\n",
    "    'range':'5y',\n",
    "    'interval': '1d',\n",
    "    'events':'history',\n",
    "    'includeAdjustedClose':'true'\n",
    "}\n",
    "response = requests.get(stock_url.format(stock),params=params,headers=headers)"
   ]
  },
  {
   "cell_type": "markdown",
   "metadata": {},
   "source": [
    "`Lưu dữ liệu thu thập được vào file dữ liệu thô có tên là : raw_data.csv`"
   ]
  },
  {
   "cell_type": "code",
   "execution_count": 55,
   "metadata": {},
   "outputs": [],
   "source": [
    "file  = StringIO(response.text)\n",
    "reader = csv.reader(file)\n",
    "data = list(reader)\n",
    "\n",
    "with open('raw data/raw_data.csv', 'w',newline='') as f:\n",
    "    writer = csv.writer(f)\n",
    "    # writer.writerow((\"Date\", \"Open\",\"High\", \"Low\",\"Close\", \"Adj Close\",\"Volume\"))\n",
    "    for row in data:\n",
    "        writer.writerow(row)\n"
   ]
  }
 ],
 "metadata": {
  "interpreter": {
   "hash": "b2f6f809b2ed56d9097a93784c969695d7a5df466e601ed2b3cda10a2111aad4"
  },
  "kernelspec": {
   "display_name": "Python 3.10.2 64-bit",
   "language": "python",
   "name": "python3"
  },
  "language_info": {
   "codemirror_mode": {
    "name": "ipython",
    "version": 3
   },
   "file_extension": ".py",
   "mimetype": "text/x-python",
   "name": "python",
   "nbconvert_exporter": "python",
   "pygments_lexer": "ipython3",
   "version": "3.10.2"
  },
  "orig_nbformat": 4
 },
 "nbformat": 4,
 "nbformat_minor": 2
}
